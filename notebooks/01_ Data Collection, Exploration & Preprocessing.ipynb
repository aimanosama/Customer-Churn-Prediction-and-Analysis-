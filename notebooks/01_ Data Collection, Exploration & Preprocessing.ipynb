{
 "cells": [
  {
   "cell_type": "markdown",
   "id": "ad0ce1774ecd92a0",
   "metadata": {},
   "source": [
    "##  Milestone 1: EDA and Preprocessing\n",
    "\n",
    "This notebook loads `data/raw/churn-bigml.csv`, performs exploratory data analysis, and applies preprocessing steps. The cleaned data is saved to `data/processed/churn_cleaned.csv`."
   ]
  },
  {
   "cell_type": "markdown",
   "id": "855ee4fd3a7739e6",
   "metadata": {},
   "source": [
    "### Importing Libraries"
   ]
  },
  {
   "cell_type": "code",
   "execution_count": null,
   "id": "initial_id",
   "metadata": {},
   "outputs": [],
   "source": [
    "import numpy as np\n",
    "import pandas as pd\n",
    "import matplotlib.pyplot as plt\n",
    "import seaborn as sns\n",
    "import plotly.express as px\n",
    "import warnings\n",
    "warnings.filterwarnings(\"ignore\")"
   ]
  },
  {
   "cell_type": "markdown",
   "id": "521b4954ee836a24",
   "metadata": {},
   "source": [
    "### Loading the Dataset"
   ]
  },
  {
   "cell_type": "code",
   "execution_count": null,
   "id": "ea107aa43792ce44",
   "metadata": {},
   "outputs": [],
   "source": [
    "df1 = pd.read_csv(r\"../data/raw/churn-bigml-80.csv\")\n",
    "df2 = pd.read_csv(r\"../data/raw/churn-bigml-20.csv\")\n",
    "data = pd.concat([df1, df2],axis=0)"
   ]
  },
  {
   "cell_type": "markdown",
   "id": "faf5023b8e4d68e8",
   "metadata": {},
   "source": [
    "### Exploring the Dataset"
   ]
  },
  {
   "cell_type": "code",
   "execution_count": null,
   "id": "e9597a97bae86e57",
   "metadata": {},
   "outputs": [],
   "source": [
    "print(\"Shape of data:\", data.shape)\n",
    "print(\"Null values per column: \",sum(data.isnull().sum()))\n",
    "print(\"Duplicate rows:\", data.duplicated().sum())"
   ]
  },
  {
   "cell_type": "code",
   "execution_count": null,
   "id": "aa016d74b224695e",
   "metadata": {},
   "outputs": [],
   "source": [
    "print(\"\\nInfo: \", data.info())\n",
    "print(\"\\nDescribe: \")\n",
    "display(data.describe())"
   ]
  },
  {
   "cell_type": "code",
   "execution_count": null,
   "id": "50414416045a880d",
   "metadata": {},
   "outputs": [],
   "source": [
    "data.columns"
   ]
  },
  {
   "cell_type": "code",
   "execution_count": null,
   "id": "f23d58515b271b09",
   "metadata": {},
   "outputs": [],
   "source": [
    "print(\"\\nHead:\")\n",
    "display(data.head())"
   ]
  },
  {
   "cell_type": "code",
   "execution_count": null,
   "id": "3058fcacb26274de",
   "metadata": {},
   "outputs": [],
   "source": [
    "data['Churn'].value_counts(normalize=True).rename('ratio')"
   ]
  },
  {
   "cell_type": "markdown",
   "id": "9fc75a59a7269808",
   "metadata": {},
   "source": [
    "### Data Cleaning"
   ]
  },
  {
   "cell_type": "code",
   "execution_count": null,
   "id": "872daf6be3e8ecb4",
   "metadata": {},
   "outputs": [],
   "source": [
    "data[[\"International plan\",\"Voice mail plan\"]] = data[[\"International plan\",\"Voice mail plan\"]].replace(\"Yes\",1).replace(\"No\",0)\n",
    "data['Churn'] = data['Churn'].replace({True:1,False:0})"
   ]
  },
  {
   "cell_type": "code",
   "execution_count": null,
   "id": "17ede4a6a24265ed",
   "metadata": {},
   "outputs": [],
   "source": [
    "from us import states\n",
    "def state_to_full(state):\n",
    "    st = states.lookup(state)\n",
    "    return st.name if st else state\n",
    "data[\"State\"] = data[\"State\"].apply(state_to_full)\n",
    "data[\"State\"].replace(\"DC\",\"District of Columbia\",inplace=True)"
   ]
  },
  {
   "cell_type": "code",
   "execution_count": null,
   "id": "6a97083e6f63c2d3",
   "metadata": {},
   "outputs": [],
   "source": [
    "numerical_cols = data.select_dtypes(include=[np.number]).columns.tolist()\n",
    "categorical_cols = data.select_dtypes(exclude=[np.number]).columns.tolist()"
   ]
  },
  {
   "cell_type": "code",
   "execution_count": null,
   "id": "2303f43ddb391faa",
   "metadata": {},
   "outputs": [],
   "source": [
    "px.box(data_frame=data[numerical_cols])"
   ]
  },
  {
   "cell_type": "code",
   "execution_count": null,
   "id": "db0bb9b18cc56240",
   "metadata": {},
   "outputs": [],
   "source": [
    "data.shape"
   ]
  },
  {
   "cell_type": "markdown",
   "id": "344b6d58142bf364",
   "metadata": {},
   "source": [
    "### Data Quality Checks"
   ]
  },
  {
   "cell_type": "code",
   "execution_count": null,
   "id": "996bcce94c840924",
   "metadata": {},
   "outputs": [],
   "source": [
    "outliers_columns = [\"Account length\",\"Total day minutes\",\"Total eve minutes\",\"Total night minutes\",\"Total eve calls\",\"Total night calls\"]\n",
    "for column in outliers_columns:\n",
    "     q75,q25 = np.percentile(data.loc[:,column],[75,25])\n",
    "     intr_qr = q75-q25\n",
    "     max = q75+(1.5*intr_qr)\n",
    "     min = q25-(1.5*intr_qr)\n",
    "     data.loc[data[column] < min,column] = np.nan\n",
    "     data.loc[data[column] > max,column] = np.nan\n",
    "data = data.dropna(axis = 0)\n",
    "data.reset_index(inplace=True)\n",
    "data.drop(['index'],axis = 1,inplace=True)"
   ]
  },
  {
   "cell_type": "code",
   "execution_count": null,
   "id": "9a904fb745e8d014",
   "metadata": {},
   "outputs": [],
   "source": [
    "data.shape"
   ]
  },
  {
   "cell_type": "code",
   "execution_count": null,
   "id": "d2d5a00adf8e27a1",
   "metadata": {},
   "outputs": [],
   "source": [
    "px.box(data_frame=data[outliers_columns])"
   ]
  },
  {
   "cell_type": "code",
   "execution_count": null,
   "id": "f31d699bfaa9165d",
   "metadata": {},
   "outputs": [],
   "source": [
    "for column in data.columns:\n",
    "    if data[column].dtypes == \"float64\":\n",
    "        data[column] = data[column].astype(\"int64\")\n",
    "data.info()"
   ]
  },
  {
   "cell_type": "code",
   "execution_count": null,
   "id": "24556ce57c1f8de3",
   "metadata": {},
   "outputs": [],
   "source": [
    "data.head()"
   ]
  },
  {
   "cell_type": "code",
   "execution_count": null,
   "id": "fbb591e3082451bc",
   "metadata": {},
   "outputs": [],
   "source": [
    "processed = data.copy()\n",
    "processed['State'] = processed['State'].astype('category')\n",
    "processed.to_csv(r\"../data/processed/churn_cleaned.csv\",index=False)\n",
    "processed.info()"
   ]
  },
  {
   "cell_type": "markdown",
   "id": "aede523c1665d60",
   "metadata": {},
   "source": [
    "### Data Visualization"
   ]
  },
  {
   "cell_type": "code",
   "execution_count": null,
   "id": "ae37d919f16af4f2",
   "metadata": {},
   "outputs": [],
   "source": [
    "fig, axs = plt.subplots(1,2,figsize=(12,6))\n",
    "sns.countplot(x=data[\"Churn\"], hue= data[\"Churn\"],ax=axs[0])\n",
    "axs[1].pie(data[\"Churn\"].value_counts(), labels= [\"Not Churn\", \"Churn\"], autopct='%1.1f%%')\n",
    "plt.show()"
   ]
  },
  {
   "cell_type": "code",
   "execution_count": null,
   "id": "b120c8d14952674a",
   "metadata": {},
   "outputs": [],
   "source": [
    "fig,axs = plt.subplots(4,2,figsize=(12,20))\n",
    "axs[0,0].set_title(\"International plan\")\n",
    "sns.countplot(x=\"International plan\",data=data,ax=axs[0,0],palette=\"pastel\")\n",
    "axs[0,1].set_title(\"Pie chart of International plan\")\n",
    "axs[0,1].pie(data[\"International plan\"].value_counts(), labels= [\"No\", \"Yes\"], autopct='%1.1f%%')\n",
    "axs[1,0].set_title(\"Voice mail plan\")\n",
    "sns.countplot(x=\"Voice mail plan\",data=data,ax=axs[1,0],palette=\"pastel\")\n",
    "axs[1,1].set_title(\"Pie chart of Voice mail plan\")\n",
    "axs[1,1].pie(data[\"Voice mail plan\"].value_counts(), labels= [\"No\", \"Yes\"], autopct='%1.1f%%')\n",
    "axs[2,0].set_title(\"Customer service calls\")\n",
    "sns.countplot(x=\"Customer service calls\",data=data,ax=axs[2,0],palette=\"pastel\")\n",
    "axs[2,1].set_title(\"Pie chart of Customer service calls\")\n",
    "axs[2,1].pie(data[\"Customer service calls\"].value_counts().head(6),labels=data[\"Customer service calls\"].value_counts().head(6).index,autopct='%1.1f%%')\n",
    "axs[3,0].set_title(\"Area code\")\n",
    "sns.countplot(x=\"Area code\",data=data,ax=axs[3,0],palette=\"pastel\")\n",
    "axs[3,1].set_title(\"Pie chart of Area code\")\n",
    "axs[3,1].pie(data[\"Area code\"].value_counts(), labels= data[\"Area code\"].value_counts().index, autopct='%1.1f%%')\n",
    "plt.show()"
   ]
  },
  {
   "cell_type": "code",
   "execution_count": null,
   "id": "a5d8d8625ec66a08",
   "metadata": {},
   "outputs": [],
   "source": [
    "fig, axs = plt.subplots(2,2,figsize=(12,8))\n",
    "sns.countplot(x=\"International plan\",data=data,hue=\"Churn\",ax=axs[0,0])\n",
    "sns.countplot(x=\"Voice mail plan\",data=data,hue=\"Churn\",ax=axs[0,1])\n",
    "sns.countplot(x=\"Customer service calls\",data=data,hue=\"Churn\",ax=axs[1,0])\n",
    "sns.countplot(x=\"Area code\",data=data,hue=\"Churn\",ax=axs[1,1])"
   ]
  },
  {
   "cell_type": "code",
   "execution_count": null,
   "id": "bf5da7ee119d234b",
   "metadata": {},
   "outputs": [],
   "source": [
    "sns.histplot(data=data,x=\"Account length\",kde=True,hue=\"Churn\")"
   ]
  },
  {
   "cell_type": "code",
   "execution_count": null,
   "id": "7da1548c78e694f7",
   "metadata": {},
   "outputs": [],
   "source": [
    "# Total minutes across day/eve/night\n",
    "fig, axes = plt.subplots(1,3, figsize=(15,5))\n",
    "sns.histplot(data=data,x=data['Total day minutes'], ax=axes[0], kde=True,hue=\"Churn\")\n",
    "axes[0].set_title(\"Total Day Minutes\")\n",
    "sns.histplot(data=data,x=data['Total eve minutes'], ax=axes[1], kde=True,hue=\"Churn\")\n",
    "axes[1].set_title(\"Total Eve Minutes\")\n",
    "sns.histplot(data=data,x=data['Total night minutes'], ax=axes[2], kde=True,hue=\"Churn\")\n",
    "axes[2].set_title(\"Total Night Minutes\")\n",
    "plt.show()\n",
    "\n",
    "# Total calls across day/eve/night\n",
    "fig, axes = plt.subplots(1,3, figsize=(15,5))\n",
    "sns.histplot(data=data,x=data['Total day calls'], ax=axes[0], kde=True,hue=\"Churn\")\n",
    "axes[0].set_title(\"Total Day Calls\")\n",
    "sns.histplot(data=data,x=data['Total eve calls'], ax=axes[1], kde=True,hue=\"Churn\")\n",
    "axes[1].set_title(\"Total Eve Calls\")\n",
    "sns.histplot(data=data,x=data['Total night calls'], ax=axes[2], kde=True,hue=\"Churn\")\n",
    "axes[2].set_title(\"Total Night Calls\")\n",
    "plt.show()\n",
    "\n",
    "# Total charges across day/eve/night\n",
    "fig, axes = plt.subplots(1,3, figsize=(15,5))\n",
    "sns.histplot(data=data,x=data['Total day charge'], ax=axes[0], kde=True,hue=\"Churn\")\n",
    "axes[0].set_title(\"Total Day Charge\")\n",
    "sns.histplot(data=data,x=data['Total eve charge'], ax=axes[1], kde=True,hue=\"Churn\")\n",
    "axes[1].set_title(\"Total Eve Charge\")\n",
    "sns.histplot(data=data,x=data['Total night charge'], ax=axes[2], kde=True,hue=\"Churn\")\n",
    "axes[2].set_title(\"Total Night Charge\")\n",
    "plt.show()"
   ]
  },
  {
   "cell_type": "code",
   "execution_count": null,
   "id": "33a619c4771d74dd",
   "metadata": {},
   "outputs": [],
   "source": [
    "data[\"Total national minutes\"] = data[\"Total day minutes\"] + data[\"Total eve minutes\"] + data[\"Total night minutes\"]\n",
    "data[\"Total national charge\"] = data[\"Total day charge\"] + data[\"Total eve charge\"] + data[\"Total night charge\"]\n",
    "px.scatter(data_frame=data,x=\"Total national charge\",y=\"Total national minutes\",color=\"Churn\")"
   ]
  },
  {
   "cell_type": "code",
   "execution_count": null,
   "id": "4a3aeebcb697402c",
   "metadata": {},
   "outputs": [],
   "source": [
    "filtered_data_churn = data[data[\"Churn\"] == 1]\n",
    "filtered_data_not_churn = data[data[\"Churn\"] == 0]\n",
    "top_states_churn = filtered_data_churn[\"State\"].value_counts().head(5).reset_index()\n",
    "top_states_not_churn = filtered_data_not_churn[\"State\"].value_counts().head(5).reset_index()\n",
    "fig, axs = plt.subplots(1,2,figsize=(12,6))\n",
    "axs[0].pie(top_states_churn[\"count\"], labels=top_states_churn[\"State\"],autopct='%1.0f%%')\n",
    "axs[1].pie(top_states_not_churn[\"count\"], labels=top_states_not_churn[\"State\"],autopct='%1.0f%%')\n",
    "axs[0].set_title(\"Top 5 States with Churn\")\n",
    "axs[1].set_title(\"Top 5 States without Churn\")\n",
    "plt.show()"
   ]
  },
  {
   "cell_type": "code",
   "execution_count": null,
   "id": "1cbd3c9a3cc86b1",
   "metadata": {},
   "outputs": [],
   "source": [
    "sns.pairplot(data=data,hue=\"Churn\")"
   ]
  },
  {
   "cell_type": "code",
   "execution_count": null,
   "id": "ed382eaecc647f3f",
   "metadata": {},
   "outputs": [],
   "source": [
    "data['Churn_bin'] = data['Churn']\n",
    "corr= data.corr(numeric_only=True)['Churn_bin'].drop('Churn_bin').sort_values(key=lambda x: x.abs(), ascending=False)\n",
    "print(corr)"
   ]
  },
  {
   "cell_type": "code",
   "execution_count": null,
   "id": "482899a9d87e6e85",
   "metadata": {},
   "outputs": [],
   "source": [
    "corr = data.select_dtypes(include=[\"int64\"]).corr()\n",
    "plt.figure(figsize=(12,8))\n",
    "sns.heatmap(data=corr,annot=True,cmap=\"coolwarm\",fmt=\".2f\")"
   ]
  }
 ],
 "metadata": {
  "kernelspec": {
   "display_name": "Python [conda env:base] *",
   "language": "python",
   "name": "conda-base-py"
  },
  "language_info": {
   "codemirror_mode": {
    "name": "ipython",
    "version": 3
   },
   "file_extension": ".py",
   "mimetype": "text/x-python",
   "name": "python",
   "nbconvert_exporter": "python",
   "pygments_lexer": "ipython3",
   "version": "3.13.5"
  }
 },
 "nbformat": 4,
 "nbformat_minor": 5
}
